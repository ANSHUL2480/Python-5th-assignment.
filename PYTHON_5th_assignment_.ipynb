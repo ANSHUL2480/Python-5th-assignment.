{
  "nbformat": 4,
  "nbformat_minor": 0,
  "metadata": {
    "colab": {
      "provenance": []
    },
    "kernelspec": {
      "name": "python3",
      "display_name": "Python 3"
    },
    "language_info": {
      "name": "python"
    }
  },
  "cells": [
    {
      "cell_type": "markdown",
      "source": [
        "1.What is the difference between interpreted and compiled languages?\n",
        "\n",
        "Ans:-🔹 Compiled Languages\n",
        "\n",
        "How it works: The entire code is translated into machine code by a compiler before execution.\n",
        "\n",
        "Examples: C, C++, Rust, Go\n",
        "\n",
        "Pros:\n",
        "\n",
        "Faster execution after compilation\n",
        "\n",
        "Better performance for large programs\n",
        "\n",
        "Cons:\n",
        "\n",
        "Slower development cycle (needs recompilation after changes)\n",
        "\n",
        "Platform-dependent (needs different binaries for different systems)\n",
        "\n",
        "🔹 Interpreted Languages\n",
        "\n",
        "How it works: The code is executed line-by-line by an interpreter, without converting it into machine code ahead of time.\n",
        "\n",
        "Examples: Python, JavaScript, PHP, Ruby\n",
        "\n",
        "Pros:\n",
        "\n",
        "Easier to debug and test\n",
        "\n",
        "Cross-platform and more flexible\n",
        "\n",
        "Cons:\n",
        "\n",
        "Slower execution compared to compiled languages\n",
        "\n",
        "Can be less efficient for heavy computation\n",
        "\n",
        "2.What is exception handling in Python?\n",
        "\n",
        "Ans:- Exception handling in Python is a way to manage errors or unexpected situations that occur during program execution, so your code doesn’t crash.\n",
        "\n",
        "3.What is the purpose of the finally block in exception handling?\n",
        "\n",
        "\n",
        "Ans:- 🔹 Purpose of the finally Block in Python Exception Handling:\n",
        "The finally block is used to define code that must run no matter what — whether an exception was raised or not.\n",
        "\n",
        "4.What is logging in Python?\n",
        "\n",
        "Ans:- Logging in Python is the process of tracking events that happen when your program runs. It helps you debug, monitor, and maintain your code by recording messages at different severity levels.\n",
        "\n",
        "5.What is the significance of the __del__ method in Python?\n",
        "\n",
        "Ans:-The del method in Python is a destructor — a special method that's automatically called when an object is about to be destroyed.\n",
        "\n",
        "\n",
        "\n",
        "✅ Purpose:\n",
        "\n",
        "To perform cleanup operations, like:\n",
        "\n",
        "Closing files or network connections\n",
        "\n",
        "Releasing external resources\n",
        "\n",
        "Logging the deletion of an object\n",
        "\n",
        "6.What is the difference between import and from ... import in Python?\n",
        "\n",
        "Ans:- 🔹 Difference between import and from ... import in Python\n",
        "Both are used to include external modules or specific components into your Python code, but they differ in how they bring them in.\n",
        "\n",
        "✅ 1. import module\n",
        "\n",
        "Imports the entire module.\n",
        "\n",
        "You access everything using the module name as a prefix.\n",
        "\n",
        "🛠 Example:\n",
        "\n",
        "import math\n",
        "\n",
        "print(math.sqrt(25))  # Access via math.sqrt\n",
        "\n",
        "✅ 2. from module import something\n",
        "\n",
        "Imports specific functions, classes, or variables directly.\n",
        "\n",
        "You can use them without the module name prefix.\n",
        "\n",
        "🛠 Example:\n",
        "\n",
        "\n",
        "\n",
        "\n"
      ],
      "metadata": {
        "id": "m-OU0QYoWkZY"
      }
    },
    {
      "cell_type": "code",
      "source": [
        "from math import sqrt\n",
        "\n",
        "print(sqrt(25))  # No need for math.sqrt\n"
      ],
      "metadata": {
        "colab": {
          "base_uri": "https://localhost:8080/"
        },
        "id": "PgDyoLNcXwJs",
        "outputId": "89997e07-cdab-4537-dd70-ea5ee750f720"
      },
      "execution_count": 10,
      "outputs": [
        {
          "output_type": "stream",
          "name": "stdout",
          "text": [
            "5.0\n"
          ]
        }
      ]
    },
    {
      "cell_type": "markdown",
      "source": [
        "7.How can you handle multiple exceptions in Python?\n",
        "\n",
        "Ans:- 🔹 How to Handle Multiple Exceptions in Python\n",
        "\n",
        "Python allows you to handle different types of exceptions separately or together using the try-except block.\n",
        "\n",
        "✅ Method 1: Multiple except Blocks (Best for Specific Handling)\n",
        "\n",
        "try:"
      ],
      "metadata": {
        "id": "4eR5mrHWX57y"
      }
    },
    {
      "cell_type": "code",
      "source": [
        "try:\n",
        "    x = int(input(\"Enter a number: \"))\n",
        "    y = 10 / x\n",
        "except ValueError:\n",
        "    print(\"Invalid input! Please enter a number.\")\n",
        "except ZeroDivisionError:\n",
        "    print(\"Cannot divide by zero.\")"
      ],
      "metadata": {
        "id": "tcNqL4Grf9DD"
      },
      "execution_count": null,
      "outputs": []
    },
    {
      "cell_type": "markdown",
      "source": [
        "✅ Method 2: Single except Block with a Tuple\n",
        "\n"
      ],
      "metadata": {
        "id": "Qi61btDXaEKU"
      }
    },
    {
      "cell_type": "code",
      "source": [
        "try:\n",
        "    x = int(input(\"Enter a number: \"))\n",
        "    y = 10 / x\n",
        "except (ValueError, ZeroDivisionError):\n",
        "    print(\"An error occurred: either invalid input or division by zero.\")"
      ],
      "metadata": {
        "id": "FyWzHO03bapl"
      },
      "execution_count": null,
      "outputs": []
    },
    {
      "cell_type": "markdown",
      "source": [
        "✅ Method 3: Catching All Exceptions (Not Recommended Unless Logging)\n",
        "\n"
      ],
      "metadata": {
        "id": "G7MhiwUlaYVu"
      }
    },
    {
      "cell_type": "code",
      "source": [
        "try:\n",
        "    # risky codeexcept Exception as e:\n",
        "      print(f\"Unexpected error: {e}\")"
      ],
      "metadata": {
        "id": "KHLoZybrgHRQ"
      },
      "execution_count": null,
      "outputs": []
    },
    {
      "cell_type": "markdown",
      "source": [
        "8. What is the purpose of the with statement when handling files in Python?\n",
        "\n",
        "Ans:- 🔹 Purpose of the with Statement in File Handling (Python) The with statement in Python is used to simplify file handling by ensuring that resources like files are automatically closed after use — even if an error occurs.\n",
        "✅ Why Use with?\n",
        "\n",
        "Automatically closes the file\n",
        "\n",
        "Makes code cleaner and more readable\n",
        "\n",
        "Reduces the risk of forgetting to close the file (which can cause memory leaks or file locks)\n",
        "\n",
        "9.What is the difference between multithreading and multiprocessing?\n",
        "\n",
        "-Ans:- 🔹 Difference Between Multithreading and Multiprocessing in Python Both are techniques for achieving concurrent execution, but they differ in how they use system resources.\n",
        "\n",
        "✅ 1. Multithreading\n",
        "\n",
        "Uses multiple threads within a single process\n",
        "\n",
        "Threads share the same memory space\n",
        "\n",
        "Best for I/O-bound tasks (e.g., file handling, network operations)\n",
        "\n",
        "🧠 Example Use:"
      ],
      "metadata": {
        "id": "_WfUNfN4an-O"
      }
    },
    {
      "cell_type": "code",
      "source": [
        "import threading\n",
        "\n",
        "def print_numbers():\n",
        "    for i in range(5):\n",
        "        print(i)\n",
        "\n",
        "thread = threading.Thread(target=print_numbers)\n",
        "thread.start()"
      ],
      "metadata": {
        "id": "V5I7W6kCandp"
      },
      "execution_count": null,
      "outputs": []
    },
    {
      "cell_type": "markdown",
      "source": [
        "✅ 2. Multiprocessing\n",
        "\n",
        "Uses multiple processes\n",
        "\n",
        "Each process has its own memory space\n",
        "\n",
        "Best for CPU-bound tasks (e.g., data crunching, machine learning)\n",
        "\n",
        "🧠 Example Use:\n",
        "\n",
        "import multiprocessing"
      ],
      "metadata": {
        "id": "1uEU_8U0a4L_"
      }
    },
    {
      "cell_type": "code",
      "source": [
        "def print_numbers():\n",
        "    for i in range(5):\n",
        "        print(i)\n",
        "\n",
        "process = multiprocessing.Process(target=print_numbers)\n",
        "process.start()\n"
      ],
      "metadata": {
        "id": "nMz4FVTfa9hR"
      },
      "execution_count": null,
      "outputs": []
    },
    {
      "cell_type": "markdown",
      "source": [
        "10.What are the advantages of using logging in a program?\n",
        "\n",
        "Ans:- 🔹 Advantages of Using Logging in a Python Program\n",
        "Logging is much more powerful and flexible than using print() statements. Here's why it's a best practice in real-world programming:\n",
        "\n",
        "✅ 1. Tracks Program Execution\n",
        "\n",
        "Logs help you monitor the flow of your program.\n",
        "\n",
        "You can trace what happened and when — useful for debugging and auditing.\n",
        "\n",
        "✅ 2. Captures Errors and Warnings\n",
        "\n",
        "Automatically record exceptions, warnings, or unexpected behavior.\n",
        "\n",
        "Helps in identifying and fixing bugs quickly.\n",
        "\n",
        "✅ 3. Customizable Output Levels\n",
        "\n",
        "Supports different severity levels: DEBUG, INFO, WARNING, ERROR, CRITICAL.\n",
        "\n",
        "You can filter logs based on importance.\n",
        "\n",
        "✅ 4. Saves to Files\n",
        "\n",
        "Logs can be stored in files, making it easy to review later — especially helpful in production environments.\n",
        "\n",
        "11.What is memory management in Python?\n",
        "\n",
        "Ans:- Memory management in Python refers to the process of allocating and releasing memory to ensure efficient use of resources while the program runs. Python handles memory management automatically through its garbage collection mechanism, but it also provides developers with tools to manage memory more effectively.\n",
        "\n",
        "Automatic Memory Management (Garbage Collection)\n",
        "Python uses automatic garbage collection to free up memory that is no longer in use (i.e., when objects are no longer referenced).\n",
        "\n",
        "The garbage collector identifies and removes objects that are not reachable, preventing memory leaks.\n",
        "\n",
        "Memory Allocation\n",
        "When a variable or object is created, memory is allocated for it.\n",
        "\n",
        "Python manages this allocation using the heap (for dynamically created objects) and the stack (for function calls and local variables).\n",
        "\n",
        "Reference Counting\n",
        "Each object in Python has a reference count that tracks the number of references to the object.\n",
        "\n",
        "When the reference count drops to zero (i.e., no more references), the object is automatically deallocated.\n",
        "\n",
        "Garbage Collection (GC)\n",
        "Python uses cyclic garbage collection to handle circular references (objects referencing each other).\n",
        "The gc module provides developers the ability to interact with the garbage collector if needed.\n",
        "\n",
        "12.What are the basic steps involved in exception handling in Python?\n",
        "\n",
        "Ans:- 🔹 Basic Steps Involved in Exception Handling in Python Exception handling in Python helps you manage errors gracefully and prevent your program from crashing unexpectedly.\n",
        "\n",
        "✅ 1. Use try Block\n",
        "\n",
        "Wrap the code that might raise an exception inside a try block.\n",
        "\n"
      ],
      "metadata": {
        "id": "A9vg829ycCYi"
      }
    },
    {
      "cell_type": "code",
      "source": [
        "try:\n",
        "    # Risky code here\n",
        "    x = 10 / 0"
      ],
      "metadata": {
        "id": "SgGRwZa8fWyU"
      },
      "execution_count": null,
      "outputs": []
    },
    {
      "cell_type": "markdown",
      "source": [
        "✅ 2. Add except Block(s)\n",
        "\n",
        "Catch specific or general exceptions and define what to do when they occur.\n",
        "\n",
        "except ZeroDivisionError:\n",
        "    "
      ],
      "metadata": {
        "id": "rjjVqXqLgo2O"
      }
    },
    {
      "cell_type": "code",
      "source": [
        "\n",
        "    print(\"You can't divide by zero!\")"
      ],
      "metadata": {
        "colab": {
          "base_uri": "https://localhost:8080/"
        },
        "id": "sAxBo8QogxBJ",
        "outputId": "21da3a52-2ab5-4a5f-fe3a-ada7255af7d5"
      },
      "execution_count": 12,
      "outputs": [
        {
          "output_type": "stream",
          "name": "stdout",
          "text": [
            "You can't divide by zero!\n"
          ]
        }
      ]
    },
    {
      "cell_type": "markdown",
      "source": [
        "✅ 3. (Optional) Use else Block\n",
        "\n",
        "Executes only if no exceptions occur in the try block.\n",
        "\n",
        "\n",
        "else:\n",
        "    "
      ],
      "metadata": {
        "id": "gKwYkjKKhEJa"
      }
    },
    {
      "cell_type": "code",
      "source": [
        "print(\"No errors occurred.\")"
      ],
      "metadata": {
        "colab": {
          "base_uri": "https://localhost:8080/"
        },
        "id": "No54s-bShHVV",
        "outputId": "6b60d90e-18ea-495d-a977-5bc7a6770ea6"
      },
      "execution_count": 13,
      "outputs": [
        {
          "output_type": "stream",
          "name": "stdout",
          "text": [
            "No errors occurred.\n"
          ]
        }
      ]
    },
    {
      "cell_type": "markdown",
      "source": [
        "✅ 4. (Optional) Use finally Block\n",
        "\n",
        "Executes no matter what, whether an exception occurs or not (often used for cleanup).\n",
        "\n",
        "finally:\n",
        "\n",
        "    "
      ],
      "metadata": {
        "id": "KiY6aGZChMR8"
      }
    },
    {
      "cell_type": "code",
      "source": [
        "print(\"Execution completed.\")"
      ],
      "metadata": {
        "colab": {
          "base_uri": "https://localhost:8080/"
        },
        "id": "K0iQsprChUyF",
        "outputId": "cb2e2a1f-72f3-4a35-8e56-a95730f445c2"
      },
      "execution_count": 14,
      "outputs": [
        {
          "output_type": "stream",
          "name": "stdout",
          "text": [
            "Execution completed.\n"
          ]
        }
      ]
    },
    {
      "cell_type": "markdown",
      "source": [
        "13.Why is memory management important in Python?\n",
        "\n",
        "Ans:- Memory management is crucial in Python to ensure that your program runs efficiently, smoothly, and without crashing due to running out of memory. Even though Python handles memory automatically, understanding and managing it helps write better, more scalable code.\n",
        "\n",
        "\n",
        "✅ 1. Prevents Memory Leaks\n",
        "\n",
        "Proper memory handling ensures that unused objects don’t stay in memory forever.\n",
        "\n",
        "Without it, memory usage would grow unnecessarily, eventually slowing or crashing the program.\n",
        "\n",
        "✅ 2. Improves Performance\n",
        "\n",
        "Efficient memory use results in faster execution.\n",
        "\n",
        "Python’s garbage collector and memory manager reduce the time and effort spent on manual allocation and cleanup.\n",
        "\n",
        "✅ 3. Supports Large Applications\n",
        "\n",
        "Big projects (e.g., web apps, ML models) use a lot of memory.\n",
        "\n",
        "Good memory management helps them stay stable and responsive over time.\n",
        "\n",
        "✅ 4. Avoids Crashes\n",
        "\n",
        "Uncontrolled memory usage can lead to MemoryError or system crashes.\n",
        "\n",
        "Python’s memory manager helps avoid such fatal issues by freeing unused memory.\n",
        "\n",
        "✅ 5. Enhances Resource Efficiency\n",
        "\n",
        "Makes sure memory is used only when needed, and released when it’s not — keeping the system resources free for other tasks.\n",
        "\n",
        "✅ 6. Safer Programs\n",
        "\n",
        "Helps prevent bugs caused by uninitialized or corrupted memory."
      ],
      "metadata": {
        "id": "kC8GWAuVhjsL"
      }
    },
    {
      "cell_type": "markdown",
      "source": [
        "14.What is the role of try and except in exception handling?\n",
        "\n",
        "Ans:- 🔹 Role of try and except in Exception Handling (Python)\n",
        "\n",
        "The try and except blocks are core components of Python’s exception handling mechanism. They help your program handle errors gracefully without crashing.\n",
        "\n",
        "✅ 1. try Block\n",
        "\n",
        "Used to wrap risky code — the part of your program where an error might occur.\n"
      ],
      "metadata": {
        "id": "wN3TqU3vh3Tb"
      }
    },
    {
      "cell_type": "code",
      "source": [
        "try:\n",
        "    x = int(input(\"Enter a number: \"))\n",
        "    y = 10 / x"
      ],
      "metadata": {
        "id": "EyTvNdaHh5JF"
      },
      "execution_count": null,
      "outputs": []
    },
    {
      "cell_type": "markdown",
      "source": [
        "Python tries to run the code.\n",
        "\n",
        "If no error: it proceeds.\n",
        "\n",
        "If an error occurs: it jumps to the corresponding except block.\n",
        "\n",
        "✅ 2. except Block\n",
        "\n",
        "Used to catch and handle the error that was raised in the try block.\n",
        "\n",
        "except ZeroDivisionError:"
      ],
      "metadata": {
        "id": "G_aexBUyiBNS"
      }
    },
    {
      "cell_type": "code",
      "source": [
        "\n",
        "    print(\"You cannot divide by zero!\")"
      ],
      "metadata": {
        "colab": {
          "base_uri": "https://localhost:8080/"
        },
        "id": "n7va6ms1iGeG",
        "outputId": "f2825d17-02ce-44a2-c6aa-5fe92e7e76f1"
      },
      "execution_count": 20,
      "outputs": [
        {
          "output_type": "stream",
          "name": "stdout",
          "text": [
            "You cannot divide by zero!\n"
          ]
        }
      ]
    },
    {
      "cell_type": "markdown",
      "source": [
        "It prevents the program from crashing.\n",
        "\n",
        "You can have multiple except blocks for different error types.\n",
        "\n",
        "15. How does Python's garbage collection system work?\n",
        "\n",
        "Ans- 🔹 How Python’s Garbage Collection System Works\n",
        "\n",
        "Python’s garbage collection (GC) system automatically reclaims memory by removing objects that are no longer needed, helping your program run efficiently without memory leaks.\n",
        "\n",
        "✅ 1. Reference Counting (Primary Mechanism)\n",
        "\n",
        "\n",
        "Every object in Python has a reference count — the number of variables that point to it.\n",
        "\n",
        "\n",
        "When an object’s reference count drops to zero, Python automatically deletes it.\n",
        "\n",
        "\n",
        "🧠 Example:"
      ],
      "metadata": {
        "id": "67pxyAWDimXr"
      }
    },
    {
      "cell_type": "code",
      "source": [
        "a = [1, 2, 3]  # Reference count = 1\n",
        "b = a          # Reference count = 2\n",
        "del a          # Reference count = 1\n",
        "del b          # Reference count = 0 → Collected"
      ],
      "metadata": {
        "id": "igQSDQ83ivgJ"
      },
      "execution_count": 21,
      "outputs": []
    },
    {
      "cell_type": "markdown",
      "source": [
        "✅ 2. Garbage Collector for Cyclic References\n",
        "\n",
        "Sometimes, objects refe\n",
        "rence each other in a cycle, so their reference count never reaches 0 — like:"
      ],
      "metadata": {
        "id": "-kx2cbYji4Mn"
      }
    },
    {
      "cell_type": "code",
      "source": [
        "a = {}\n",
        "b = {}\n",
        "a[\"b\"] = b\n",
        "b[\"a\"] = a"
      ],
      "metadata": {
        "id": "D1BZkd6zi6j7"
      },
      "execution_count": 22,
      "outputs": []
    },
    {
      "cell_type": "markdown",
      "source": [
        "✅ 3. Generational Garbage Collection\n",
        "\n",
        "Python divides objects into 3 generations:\n",
        "\n",
        "Gen 0: New objects\n",
        "\n",
        "Gen 1: Survived one GC cycle\n",
        "\n",
        "Gen 2: Long-lived objects\n",
        "\n",
        "✅ 4. Manual Control (Optional)\n",
        "\n",
        "You can interact with the GC using the gc module:\n",
        "\n"
      ],
      "metadata": {
        "id": "qDRK_Mk8jeDj"
      }
    },
    {
      "cell_type": "code",
      "source": [
        "\n",
        "import gc\n",
        "gc.collect()  # Manually trigger garbage collection\n",
        "gc.disable()  # Turn off automatic GC (not recommended)"
      ],
      "metadata": {
        "id": "WRKDXQKEjWTn"
      },
      "execution_count": 26,
      "outputs": []
    },
    {
      "cell_type": "markdown",
      "source": [
        "16.What is the purpose of the else block in exception handling?\n",
        "\n",
        "Ans: 🔹 Purpose of the else Block in Exception Handling (Python) The else block in Python's exception handling is used to run code only if no exceptions were raised in the try block.\n",
        "✅ Why Use else?\n",
        "\n",
        "Keeps your error-handling (except) separate from your normal logic\n",
        "\n",
        "Makes code cleaner and easier to understand\n",
        "\n",
        "🧠 Syntax:\n",
        "\n"
      ],
      "metadata": {
        "id": "6-LOX9Cij0_C"
      }
    },
    {
      "cell_type": "code",
      "source": [
        "try:\n",
        "    # Risky code - Add your code here that might raise an exception\n",
        "    pass  # Added a placeholder as an indented block\n",
        "except SomeException:\n",
        "    # Handle the exception\n",
        "    pass  # Added a placeholder as an indented block\n",
        "else:\n",
        "    # Run only if no exception occurred\n",
        "    pass  # Added a placeholder as an indented block"
      ],
      "metadata": {
        "id": "_2EtEOwnkChM"
      },
      "execution_count": 30,
      "outputs": []
    },
    {
      "cell_type": "markdown",
      "source": [
        "🔁 Example"
      ],
      "metadata": {
        "id": "clMv0KAGkKy6"
      }
    },
    {
      "cell_type": "code",
      "source": [
        "try:\n",
        "    num = int(input(\"Enter a number: \"))\n",
        "    result = 10 / num\n",
        "except ValueError:\n",
        "    print(\"Please enter a valid number.\")\n",
        "except ZeroDivisionError:\n",
        "    print(\"Cannot divide by zero.\")\n",
        "else:\n",
        "    print(f\"Result: {result}\")"
      ],
      "metadata": {
        "id": "Qpe5wxxXkXtS"
      },
      "execution_count": null,
      "outputs": []
    },
    {
      "cell_type": "markdown",
      "source": [
        "17.What are the common logging levels in Python?\n",
        "\n",
        "Ans:- 🔹 Common Logging Levels in Python Python’s logging module provides 5 standard logging levels to categorize the importance and severity of messages in your application.\n",
        "✅ 1. DEBUG (10)\n",
        "\n",
        "Lowest level.\n",
        "\n",
        "Used for detailed information, mostly useful during development.\n",
        "\n",
        "logging.debug(\"This is a debug message.\")\n",
        "\n",
        "✅ 2. INFO (20)\n",
        "\n",
        "General events that confirm the program is working as expected.\n",
        "logging.info(\"Process started successfully.\")\n",
        "\n",
        "✅ 3. WARNING (30)\n",
        "\n",
        "Indicates something unexpected happened, but the program is still running.\n",
        "logging.warning(\"Low disk space.\")\n",
        "\n",
        "✅ 4. ERROR (40)\n",
        "\n",
        "A serious problem that prevents a function from performing its task.\n",
        "logging.error(\"Failed to connect to database.\")\n",
        "\n",
        "✅ 5. CRITICAL (50)"
      ],
      "metadata": {
        "id": "H3xh7ioGkprk"
      }
    },
    {
      "cell_type": "markdown",
      "source": [
        "A very serious error, possibly shutting down the application.\n",
        "\n"
      ],
      "metadata": {
        "id": "WD8FWhn5llOW"
      }
    },
    {
      "cell_type": "code",
      "source": [
        "import logging\n",
        "\n",
        "logging.critical(\"System crash! Immediate attention needed.\")"
      ],
      "metadata": {
        "colab": {
          "base_uri": "https://localhost:8080/"
        },
        "id": "DScYVS4klREL",
        "outputId": "cd4440e7-2bf2-4379-e8eb-c69b773e73a5"
      },
      "execution_count": 32,
      "outputs": [
        {
          "output_type": "stream",
          "name": "stderr",
          "text": [
            "CRITICAL:root:System crash! Immediate attention needed.\n"
          ]
        }
      ]
    },
    {
      "cell_type": "markdown",
      "source": [
        "18.What is the difference between os.fork() and multiprocessing in Python?\n",
        "\n",
        "Ans:-🔹 Difference Between os.fork() and multiprocessing in Python\n",
        "\n",
        "Both os.fork() and the multiprocessing module are used to create new processes, but they differ significantly in usage, portability, and abstraction level.\n",
        "\n",
        "✅ 1. os.fork()\n",
        "\n",
        "🧠 Low-level system call (UNIX/Linux only).\n",
        "\n",
        "Creates a child process by duplicating the parent.\n",
        "\n",
        "Returns:\n",
        "\n",
        "0 to the child process,\n",
        "\n",
        "PID of the child to the parent.\n"
      ],
      "metadata": {
        "id": "grYtHLOylsv4"
      }
    },
    {
      "cell_type": "code",
      "source": [
        "import os\n",
        "\n",
        "pid = os.fork()\n",
        "if pid == 0:\n",
        "    print(\"Child process\")\n",
        "else:\n",
        "    print(\"Parent process\")"
      ],
      "metadata": {
        "colab": {
          "base_uri": "https://localhost:8080/"
        },
        "id": "HDu_VXj9loHO",
        "outputId": "be89f175-67e8-4a74-aaae-45e6ac3d7fd8"
      },
      "execution_count": 33,
      "outputs": [
        {
          "output_type": "stream",
          "name": "stdout",
          "text": [
            "Child processParent process\n",
            "\n"
          ]
        }
      ]
    },
    {
      "cell_type": "markdown",
      "source": [
        "⚠️ Limitation:\n",
        "\n",
        "Not available on Windows.\n",
        "\n",
        "Requires manual handling of shared data, communication, and synchronization.\n",
        "\n",
        "✅ 2. multiprocessing Module\n",
        "\n",
        "🧠 High-level API for cross-platform process-based parallelism.\n",
        "\n",
        "Spawns independent Python interpreter processes.\n",
        "\n",
        "Safer and easier to use.\n",
        "\n",
        "from multiprocessing import Process"
      ],
      "metadata": {
        "id": "JTiCCWHzmBqr"
      }
    },
    {
      "cell_type": "code",
      "source": [
        "def worker():\n",
        "    print(\"Worker process\")\n",
        "\n",
        "p = Process(target=worker)\n",
        "p.start()\n",
        "p.join()\n"
      ],
      "metadata": {
        "id": "DXtTCAdHmE-9"
      },
      "execution_count": null,
      "outputs": []
    },
    {
      "cell_type": "markdown",
      "source": [
        "✅ Advantages:\n",
        "\n",
        " .Portable (works on Windows, macOS, Linux)\n",
        "\n",
        " .Built-in support for:\n",
        "\n",
        " .Queues\n",
        "\n",
        " .Pipes\n",
        "\n",
        " .Shared memory\n",
        "\n",
        "Synchronization tools (like Lock, Event)\n",
        "\n",
        "19.What is the importance of closing a file in Python?\n",
        "\n",
        "Ans:- 🔹 Importance of Closing a File in Python When working with files in Python, it's essential to close them properly after you’re done. This ensures your program runs safely and efficiently.\n",
        "\n",
        "✅ 1. Frees System Resources\n",
        "\n",
        "Files consume system-level resources (like file handles).\n",
        "\n",
        "Closing the file releases those resources back to the OS."
      ],
      "metadata": {
        "id": "bAEOJRX1mYWj"
      }
    },
    {
      "cell_type": "code",
      "source": [
        "file = open(\"data.txt\", \"r\")\n",
        "# ... use the file\n",
        "file.close()  # Frees memory and file handle\n"
      ],
      "metadata": {
        "id": "MzxM15fHmzN4"
      },
      "execution_count": null,
      "outputs": []
    },
    {
      "cell_type": "markdown",
      "source": [
        "✅ 2. Saves Data Properly\n",
        "\n",
        "In write (w) or append (a) mode, changes may be buffered and not written immediately.\n",
        "\n",
        "close() ensures all buffered data is flushed to disk."
      ],
      "metadata": {
        "id": "1EEOKgXwnHlE"
      }
    },
    {
      "cell_type": "code",
      "source": [
        "file = open(\"log.txt\", \"w\")\n",
        "file.write(\"Important log\")\n",
        "file.close()  # Ensures the data is actually saved"
      ],
      "metadata": {
        "id": "Y9dHjSlCn2k9"
      },
      "execution_count": null,
      "outputs": []
    },
    {
      "cell_type": "markdown",
      "source": [
        "✅ 3. Avoids Data Corruption or Loss\n",
        "\n",
        "Keeping files open for too long, especially during writing, increases the risk of corruption if the program crashes.\n",
        "\n",
        "Closing them reduces that risk.\n",
        "\n",
        "✅ 4. Prevents File Lock Issues\n",
        "\n",
        "On some systems, an open file may be locked (other programs or processes can't access it).\n",
        "\n",
        "Closing the file removes that lock.\n",
        "\n",
        "20.What is the difference between file.read() and file.readline() in Python?\n",
        "\n",
        "Ans:- 🔹 Difference Between file.read() and file.readline() in Python Both file.read() and file.readline() are used to read content from a file, but they work differently in how much data they return.\n",
        "\n",
        "✅ 1. file.read()\n",
        "\n",
        "Reads the entire file content at once (or a specified number of bytes).\n",
        "\n",
        "Returns a single string.\n",
        "\n"
      ],
      "metadata": {
        "id": "dfOw2xwZoEB5"
      }
    },
    {
      "cell_type": "code",
      "source": [
        "with open(\"sample.txt\", \"r\") as file:\n",
        "    content = file.read()\n",
        "    print(content)"
      ],
      "metadata": {
        "id": "-fbmuN6qoNnN"
      },
      "execution_count": null,
      "outputs": []
    },
    {
      "cell_type": "markdown",
      "source": [
        "✅ 2. file.readline()\n",
        "\n",
        "Reads only one line at a time from the file.\n",
        "\n",
        "Returns a string including the newline \\n."
      ],
      "metadata": {
        "id": "HiSOlVc7oST-"
      }
    },
    {
      "cell_type": "code",
      "source": [
        "with open(\"sample.txt\", \"r\") as file:\n",
        "    line1 = file.readline()\n",
        "    line2 = file.readline()\n",
        "    print(line1, line2)"
      ],
      "metadata": {
        "id": "0_SdWN68oUud"
      },
      "execution_count": null,
      "outputs": []
    },
    {
      "cell_type": "markdown",
      "source": [
        "21.What is the logging module in Python used for?\n",
        "\n",
        "Ans:- The logging module in Python is used to track events, errors, and status updates during a program’s execution — making it easier to debug, monitor, and maintain your code.\n",
        "\n",
        "✅ Key Uses of the logging Module:\n",
        "\n",
        "Debugging\n",
        "Logs detailed info about the code’s behavior."
      ],
      "metadata": {
        "id": "_NnwBxGvohe2"
      }
    },
    {
      "cell_type": "code",
      "source": [
        "logging.debug(\"Variable x has value %d\", x)"
      ],
      "metadata": {
        "id": "0mXGMKG7ooRw"
      },
      "execution_count": null,
      "outputs": []
    },
    {
      "cell_type": "markdown",
      "source": [
        "Error Tracking\n",
        "\n",
        "Captures errors and exceptions without stopping the program.\n",
        "\n",
        "\n"
      ],
      "metadata": {
        "id": "c5wfRHo6lKGm"
      }
    },
    {
      "cell_type": "code",
      "source": [
        "logging.error(\"Something went wrong!\", exc_info=True)"
      ],
      "metadata": {
        "id": "GNYYqDJyo2Xn"
      },
      "execution_count": null,
      "outputs": []
    },
    {
      "cell_type": "markdown",
      "source": [
        "Monitoring\n",
        "\n",
        "Helps track program status, execution flow, or performance over time.\n",
        "\n",
        "Reporting\n",
        "\n",
        "Saves logs to files for later analysis — useful for production environments.\n",
        "\n",
        "Alerts\n",
        "\n",
        "Use higher-level logs (WARNING, ERROR, CRITICAL) to highlight serious issues.\n",
        "\n",
        "22. What is the os module in Python used for in file handling?\n",
        "\n",
        "Ans:- The os module in Python provides a way to interact with the operating system, especially for file and directory management — making it essential for file handling tasks.\n",
        "\n",
        "✅ Key Uses of os in File Handling:\n",
        "\n",
        "Working with Files and Directories\n",
        "\n",
        "Checking File/Folder Existence\n",
        "\n",
        "Creating and Deleting Folders\n",
        "\n",
        "Listing Directory Contents\n",
        "\n",
        "Changing the Current Directory\n",
        "\n",
        "Getting Current Working Directory\n",
        "\n",
        "23.What are the challenges associated with memory management in Python?\n",
        "\n",
        "Ans:- 🔹 Challenges Associated with Memory Management in Python Although Python automates memory management using its garbage collection and reference counting systems, there are still several challenges developers might face.\n",
        "\n",
        "⚠️ 1. Memory Leaks\n",
        "\n",
        "Caused when objects are unintentionally kept alive due to lingering references.\n",
        "\n",
        "Often occurs with circular references or global/static variables.\n",
        "\n",
        "⚠️ 2. Inefficient Memory Usage\n",
        "\n",
        "Python's high-level abstractions (lists, dictionaries, objects) may use more memory than low-level languages like C.\n",
        "\n",
        "Data structures can become memory-heavy if not optimized.\n",
        "\n",
        "⚠️ 3. Circular References\n",
        "\n",
        "Reference counting alone can’t handle them.\n",
        "\n",
        "Python's garbage collector detects and collects these, but it's not always perfect or fast.\n",
        "\n",
        "⚠️ 4. Unreleased Resources\n",
        "\n",
        "Objects like file handles, DB connections, or sockets consume memory if not explicitly closed.\n",
        "\n",
        "⚠️ 5. Global Variables\n",
        "\n",
        "Keeping large objects in the global scope may delay garbage collection or increase memory footprint unnecessarily.\n",
        "\n",
        "⚠️ 6. Misuse of C Extensions or Third-party Libraries\n",
        "\n",
        "Some C-based libraries may not integrate well with Python’s garbage collector, leading to leaks.\n",
        "\n",
        "⚠️ 7. Long-Lived Objects in Loops\n",
        "\n",
        "Creating large objects repeatedly without clearing them or letting them expire can cause memory bloat over time\n",
        "24. How do you raise an exception manually in Python?\n",
        "\n",
        "Ans:- 🔹 How to Raise an Exception Manually in Python In Python, you can manually raise an exception using the raise statement. This is helpful when you want to flag custom errors or enforce rules in your code.\n",
        "\n",
        "25.Why is it important to use multithreading in certain applications?\n",
        "\n",
        "Ans:- Multithreading allows a program to run multiple tasks concurrently within the same process — which can significantly improve performance and responsiveness in the right scenarios.\n",
        "\n",
        "✅ Key Reasons to Use Multithreading:\n",
        "\n",
        "Improved Responsiveness\n",
        "\n",
        "In GUI applications, threads prevent the interface from freezing during long-running tasks.\n",
        "\n",
        "Better Resource Utilization\n",
        "\n",
        "Threads can share memory and data easily within the same process, making communication between tasks more efficient than multiprocessing.\n",
        "\n",
        "Efficient I/O-bound Task Handling\n",
        "\n",
        "\n",
        "For tasks like reading files, downloading data, or database access, multithreading allows the CPU to keep working while waiting for I/O."
      ],
      "metadata": {
        "id": "xAW624beotBq"
      }
    },
    {
      "cell_type": "code",
      "source": [
        "#1 How can you open a file for writing in Python and write a string to it?\n",
        "\n",
        "with open(\"example.txt\", \"w\") as file:\n",
        "\n",
        "    file.write(\"Hello, this is a sample text.\")"
      ],
      "metadata": {
        "id": "k33ih2AVqArs"
      },
      "execution_count": null,
      "outputs": []
    },
    {
      "cell_type": "code",
      "source": [
        "#2 Write a Python program to read the contents of a file and print each line.\n",
        "\n",
        "with open(\"example.txt\", \"r\") as file:\n",
        "\n",
        "    for line in file:\n",
        "        print(line.strip())\n"
      ],
      "metadata": {
        "id": "3zAjAHItqfyJ"
      },
      "execution_count": null,
      "outputs": []
    },
    {
      "cell_type": "code",
      "source": [
        "#3 How would you handle a case where the file doesn't exist while trying to open it for reading?\n",
        "try:\n",
        "    with open(\"data.txt\", \"r\") as file:\n",
        "        print(file.read())\n",
        "except FileNotFoundError:\n",
        "    print(\"File not found. Creating a new one...\")\n",
        "    with open(\"data.txt\", \"w\") as file:\n",
        "        file.write(\"This is a newly created file.\")"
      ],
      "metadata": {
        "id": "DeGe8W3NqjIf"
      },
      "execution_count": null,
      "outputs": []
    },
    {
      "cell_type": "code",
      "source": [
        "#4 Write a Python script that reads from one file and writes its content to another file.\n",
        "\n",
        "try:\n",
        "    with open(\"source.txt\", \"r\") as src:\n",
        "        content = src.read()\n",
        "\n",
        "    with open(\"destination.txt\", \"w\") as dest:\n",
        "        dest.write(content)\n",
        "\n",
        "    print(\"File copied successfully!\")\n",
        "\n",
        "except FileNotFoundError:\n",
        "    print(\"Source file not found.\")\n",
        "except Exception as e:\n",
        "    print(\"An error occurred:\", e)"
      ],
      "metadata": {
        "id": "FtZitbs5qqaW"
      },
      "execution_count": null,
      "outputs": []
    },
    {
      "cell_type": "code",
      "source": [
        "#5 How would you catch and handle division by zero error in Python?\n",
        "\n",
        "try:\n",
        "    a = int(input(\"Enter numerator: \"))\n",
        "    b = int(input(\"Enter denominator: \"))\n",
        "    result = a / b\n",
        "    print(\"Result:\", result)\n",
        "\n",
        "except ZeroDivisionError:\n",
        "    print(\"Error: Denominator cannot be zero.\")\n",
        "except ValueError:\n",
        "    print(\"Error: Please enter valid numbers.\")\n",
        "\n"
      ],
      "metadata": {
        "id": "2XLiAA5HqraM"
      },
      "execution_count": null,
      "outputs": []
    },
    {
      "cell_type": "code",
      "source": [
        "#6 Write a Python program that logs an error message to a log file when a division by zero exception occurs.\n",
        "import logging\n",
        "\n",
        "# Configure logging to write to a file\n",
        "logging.basicConfig(\n",
        "    filename=\"error_log.txt\",       # Log file name\n",
        "    level=logging.ERROR,            # Log only errors and above\n",
        "    format=\"%(asctime)s - %(levelname)s - %(message)s\"\n",
        ")\n",
        "\n",
        "# Division function with error handling\n",
        "def divide(a, b):\n",
        "    try:\n",
        "        return a / b\n",
        "    except ZeroDivisionError as e:\n",
        "        logging.error(\"Division by zero attempted: %s\", e)\n",
        "        print(\"Error: Cannot divide by zero.\")\n",
        "\n",
        "# Test the function\n",
        "result = divide(10, 0)"
      ],
      "metadata": {
        "id": "6Hd1OHwGq6PK"
      },
      "execution_count": null,
      "outputs": []
    },
    {
      "cell_type": "code",
      "source": [
        "#7 How do you log information at different levels (INFO, ERROR, WARNING) in Python using the logging module?\n",
        "import logging\n",
        "\n",
        "# Configure the logging system\n",
        "logging.basicConfig(\n",
        "    filename='app.log',               # Log file name\n",
        "    level=logging.DEBUG,              # Set the lowest log level to capture everything\n",
        "    format='%(asctime)s - %(levelname)s - %(message)s'\n",
        ")\n",
        "\n",
        "# Log messages at different levels\n",
        "logging.debug(\"This is a DEBUG message (for diagnosing problems).\")\n",
        "logging.info(\"This is an INFO message (for general events).\")\n",
        "logging.warning(\"This is a WARNING message (something unexpected happened).\")\n",
        "logging.error(\"This is an ERROR message (a serious problem occurred).\")\n",
        "logging.critical(\"This is a CRITICAL message (very serious error).\")"
      ],
      "metadata": {
        "id": "XsYn0VgNq-fl"
      },
      "execution_count": null,
      "outputs": []
    },
    {
      "cell_type": "code",
      "source": [
        "#8 Write a program to handle a file opening error using exception handling\n",
        "\n",
        "try:\n",
        "    with open(\"myfile.txt\", \"r\") as file:\n",
        "        content = file.read()\n",
        "        print(\"File content:\")\n",
        "        print(content)\n",
        "\n",
        "except FileNotFoundError:\n",
        "    print(\"Error: The file 'myfile.txt' was not found.\")\n",
        "\n",
        "except IOError:\n",
        "    print(\"Error: An I/O error occurred while trying to read the file.\")\n"
      ],
      "metadata": {
        "id": "HGK1c9MArDEC"
      },
      "execution_count": null,
      "outputs": []
    },
    {
      "cell_type": "code",
      "source": [
        "#9 How can you read a file line by line and store its content in a list in Python?\n",
        "\n",
        "lines = []\n",
        "\n",
        "try:\n",
        "    with open(\"sample.txt\", \"r\") as file:\n",
        "        lines = file.readlines()  # Reads all lines into a list\n",
        "\n",
        "    print(\"File content as a list:\")\n",
        "    print(lines)\n",
        "\n",
        "except FileNotFoundError:\n",
        "    print(\"Error: File not found.\")"
      ],
      "metadata": {
        "id": "9EsTfiPHrIE3"
      },
      "execution_count": null,
      "outputs": []
    },
    {
      "cell_type": "code",
      "source": [
        "#10 How can you append data to an existing file in Python?\n",
        "\n",
        "with open(\"example.txt\", \"a+\") as file:\n",
        "    file.write(\"\\nAnother appended line.\")\n",
        "    file.seek(0)  # Move to the beginning of the file\n",
        "    print(file.read())"
      ],
      "metadata": {
        "id": "k3qfwSlQrNSg"
      },
      "execution_count": null,
      "outputs": []
    },
    {
      "cell_type": "code",
      "source": [
        "#11 Write a Python program that uses a try-except block to handle an error when attempting to access a dictionary key that doesn't exist?\n",
        "# Define a sample dictionary\n",
        "student = {\n",
        "    \"name\": \"Alice\",\n",
        "    \"age\": 20\n",
        "}\n",
        "\n",
        "# Attempt to access a key that may not exist\n",
        "try:\n",
        "    grade = student[\"grade\"]  # This key doesn't exist\n",
        "    print(\"Grade:\", grade)\n",
        "\n",
        "except KeyError:\n",
        "    print(\"Error: 'grade' key not found in the dictionary.\")"
      ],
      "metadata": {
        "id": "kuSMeqc8rSD-"
      },
      "execution_count": null,
      "outputs": []
    },
    {
      "cell_type": "code",
      "source": [
        "#12 Write a program that demonstrates using multiple except blocks to handle different types of exceptions?\n",
        "try:\n",
        "    num = int(input(\"Enter a number: \"))\n",
        "    result = 10 / num\n",
        "    print(\"Result:\", result)\n",
        "\n",
        "    my_list = [1, 2, 3]\n",
        "    print(\"Fourth item:\", my_list[3])  # This will raise IndexError\n",
        "\n",
        "except ValueError:\n",
        "    print(\"Error: Invalid input. Please enter a valid number.\")\n",
        "\n",
        "except ZeroDivisionError:\n",
        "    print(\"Error: Cannot divide by zero.\")\n",
        "\n",
        "except IndexError:\n",
        "    print(\"Error: List index out of range.\")\n",
        "\n",
        "except Exception as e:\n",
        "    print(\"An unexpected error occurred:\", e)"
      ],
      "metadata": {
        "id": "sENtar1QraRf"
      },
      "execution_count": null,
      "outputs": []
    },
    {
      "cell_type": "code",
      "source": [
        "#13 How would you check if a file exists before attempting to read it in Python?\n",
        "import os\n",
        "\n",
        "file_path = \"example.txt\"\n",
        "\n",
        "if os.path.exists(file_path):\n",
        "    with open(file_path, \"r\") as file:\n",
        "        content = file.read()\n",
        "        print(\"File content:\")\n",
        "        print(content)\n",
        "else:\n",
        "    print(f\"Error: The file '{file_path}' does not exist.\")"
      ],
      "metadata": {
        "id": "RSq0hz79rfHp"
      },
      "execution_count": null,
      "outputs": []
    },
    {
      "cell_type": "code",
      "source": [
        "#14 Write a program that uses the logging module to log both informational and error messages?\n",
        "import logging\n",
        "\n",
        "# Configure logging to write messages to a file\n",
        "logging.basicConfig(\n",
        "    filename=\"app.log\",           # Log file name\n",
        "    level=logging.DEBUG,          # Capture DEBUG and higher level logs\n",
        "    format=\"%(asctime)s - %(levelname)s - %(message)s\"\n",
        ")\n",
        "\n",
        "# Log an informational message\n",
        "logging.info(\"This is an informational message.\")\n",
        "\n",
        "# Simulating an error scenario\n",
        "try:\n",
        "    result = 10 / 0  # This will raise a ZeroDivisionError\n",
        "except ZeroDivisionError as e:\n",
        "    logging.error(f\"Error: {e}\")"
      ],
      "metadata": {
        "id": "M1N2F95_rkFX"
      },
      "execution_count": null,
      "outputs": []
    },
    {
      "cell_type": "code",
      "source": [
        "#15 Write a Python program that prints the content of a file and handles the case when the file is empty?\n",
        "# Function to read and print file content\n",
        "def read_file(file_path):\n",
        "    try:\n",
        "        with open(file_path, \"r\") as file:\n",
        "            content = file.read()\n",
        "\n",
        "            if content:  # Check if file is not empty\n",
        "                print(\"File Content:\")\n",
        "                print(content)\n",
        "            else:\n",
        "                print(\"The file is empty.\")\n",
        "\n",
        "    except FileNotFoundError:\n",
        "        print(f\"Error: The file '{file_path}' was not found.\")\n",
        "    except Exception as e:\n",
        "        print(f\"An unexpected error occurred: {e}\")\n",
        "\n",
        "# Specify the file path\n",
        "file_path = \"example.txt\"\n",
        "read_file(file_path)"
      ],
      "metadata": {
        "id": "9m62tI_aryNM"
      },
      "execution_count": null,
      "outputs": []
    },
    {
      "cell_type": "markdown",
      "source": [
        "16 Demonstrate how to use memory profiling to check the memory usage of a small program?\n"
      ],
      "metadata": {
        "id": "SuaG-HtWsHX1"
      }
    },
    {
      "cell_type": "markdown",
      "source": [
        "Ans:- Step 1: Install the memory_profiler package\n",
        "If you don’t have the memory_profiler package installed, you can install it via pip:\n",
        "\n",
        "pip install memory-profiler\n",
        "\n",
        "Step 2: Write a simple program to profile\n",
        "\n",
        "Let’s write a small Python program that calculates the sum of squares of numbers in a list:\n",
        "\n",
        "from memory_profiler import profile\n"
      ],
      "metadata": {
        "id": "4CzxBSqZsOoz"
      }
    },
    {
      "cell_type": "code",
      "source": [
        "@profile\n",
        "def sum_of_squares():\n",
        "    result = []\n",
        "    for i in range(1000000):\n",
        "        result.append(i ** 2)\n",
        "    return sum(result)\n",
        "\n",
        "if __name__ == \"__main__\":\n",
        "    sum_of_squares()"
      ],
      "metadata": {
        "id": "-0ac2ugvsQYG"
      },
      "execution_count": null,
      "outputs": []
    },
    {
      "cell_type": "markdown",
      "source": [
        "Step 3: Run the program with memory profiling\n",
        "\n",
        "To see memory usage, run the script with the following command in the terminal:\n",
        "\n",
        "python -m memory_profiler your_script.py\n"
      ],
      "metadata": {
        "id": "5BIYYswYsov6"
      }
    },
    {
      "cell_type": "markdown",
      "source": [
        "Step 4: Output analysis\n",
        "\n",
        "You will see output that looks like this:"
      ],
      "metadata": {
        "id": "o6qTcHKytSx2"
      }
    },
    {
      "cell_type": "code",
      "source": [
        "Line #    Mem usage    Increment   Line Contents\n",
        "================================================\n",
        "     3     12.3 MiB     12.3 MiB   @profile\n",
        "     4     12.4 MiB      0.1 MiB   def sum_of_squares():\n",
        "     5     12.4 MiB      0.0 MiB       result = []\n",
        "     6     12.4 MiB      0.0 MiB       for i in range(1000000):\n",
        "     7     38.0 MiB     25.6 MiB           result.append(i ** 2)\n",
        "     8     38.0 MiB      0.0 MiB       return sum(result)"
      ],
      "metadata": {
        "id": "4oNA3X0ctrQ1"
      },
      "execution_count": null,
      "outputs": []
    },
    {
      "cell_type": "code",
      "source": [
        "#17. Write a Python program to create and write a list of numbers to a file, one number per line?\n",
        "# List of numbers\n",
        "numbers = [1, 2, 3, 4, 5, 6, 7, 8, 9, 10]\n",
        "\n",
        "# Open the file in write mode ('w')\n",
        "with open('numbers.txt', 'w') as file:\n",
        "    # Iterate through the list and write each number to the file\n",
        "    for number in numbers:\n",
        "        file.write(f\"{number}\\n\")\n",
        "\n",
        "print(\"Numbers have been written to 'numbers.txt' successfully.\")"
      ],
      "metadata": {
        "id": "fCjJxH2WtzkE"
      },
      "execution_count": null,
      "outputs": []
    },
    {
      "cell_type": "code",
      "source": [
        "#18 How would you implement a basic logging setup that logs to a file with rotation after 1MB?\n",
        "import logging\n",
        "from logging.handlers import RotatingFileHandler\n",
        "\n",
        "# Set up a logger\n",
        "logger = logging.getLogger('my_logger')\n",
        "logger.setLevel(logging.DEBUG)  # Set the logging level (DEBUG, INFO, WARNING, etc.)\n",
        "\n",
        "# Create a RotatingFileHandler\n",
        "handler = RotatingFileHandler('my_log.log', maxBytes=1e6, backupCount=3)  # 1 MB = 1e6 bytes\n",
        "handler.setLevel(logging.DEBUG)  # Set the level for the handler\n",
        "\n",
        "# Create a formatter and set it for the handler\n",
        "formatter = logging.Formatter('%(asctime)s - %(name)s - %(levelname)s - %(message)s')\n",
        "handler.setFormatter(formatter)\n",
        "\n",
        "# Add the handler to the logger\n",
        "logger.addHandler(handler)\n",
        "\n",
        "# Example log entries\n",
        "logger.debug('This is a debug message.')\n",
        "logger.info('This is an info message.')\n",
        "logger.warning('This is a warning message.')\n",
        "logger.error('This is an error message.')\n",
        "logger.critical('This is a critical message.')"
      ],
      "metadata": {
        "id": "LGkR5RWWtzgf"
      },
      "execution_count": null,
      "outputs": []
    },
    {
      "cell_type": "code",
      "source": [
        "#19 Write a program that handles both IndexError and KeyError using a try-except block?\n",
        "def handle_errors():\n",
        "    my_list = [10, 20, 30]\n",
        "    my_dict = {'a': 1, 'b': 2, 'c': 3}\n",
        "\n",
        "    try:\n",
        "        # Attempting to access an invalid index in the list\n",
        "        print(my_list[5])\n",
        "\n",
        "        # Attempting to access a key that doesn't exist in the dictionary\n",
        "        print(my_dict['d'])\n",
        "\n",
        "    except IndexError as ie:\n",
        "        print(f\"IndexError occurred: {ie}\")\n",
        "\n",
        "    except KeyError as ke:\n",
        "        print(f\"KeyError occurred: {ke}\")\n",
        "\n",
        "# Call the function to test error handling\n",
        "handle_errors()\n"
      ],
      "metadata": {
        "id": "uAo0Cf_TuF0H"
      },
      "execution_count": null,
      "outputs": []
    },
    {
      "cell_type": "code",
      "source": [
        "#20 How would you open a file and read its contents using a context manager in Python?\n",
        "# Using a context manager to open and read a file\n",
        "with open('example.txt', 'r') as file:\n",
        "    # Read the entire contents of the file\n",
        "    content = file.read()\n",
        "\n",
        "    # Print the content of the file\n",
        "    print(content)"
      ],
      "metadata": {
        "id": "CeN65o3LuHZ8"
      },
      "execution_count": null,
      "outputs": []
    },
    {
      "cell_type": "code",
      "source": [
        "#21 Write a Python program that reads a file and prints the number of occurrences of a specific word?\n",
        "def count_word_occurrences(file_name, target_word):\n",
        "    try:\n",
        "        # Open the file in read mode using a context manager\n",
        "        with open(file_name, 'r') as file:\n",
        "            # Read the contents of the file\n",
        "            content = file.read()\n",
        "\n",
        "            # Count the occurrences of the target word (case-insensitive)\n",
        "            word_count = content.lower().split().count(target_word.lower())\n",
        "\n",
        "        # Print the result\n",
        "        print(f\"The word '{target_word}' occurred {word_count} times.\")\n",
        "\n",
        "    except FileNotFoundError:\n",
        "        print(f\"The file '{file_name}' was not found.\")\n",
        "    except Exception as e:\n",
        "        print(f\"An error occurred: {e}\")\n",
        "\n",
        "# Example usage\n",
        "file_name = 'example.txt'  # Replace with the actual file path\n",
        "target_word = 'python'     # Replace with the word you want to search for\n",
        "count_word_occurrences(file_name, target_word)\n"
      ],
      "metadata": {
        "id": "tHtheRenuPJw"
      },
      "execution_count": null,
      "outputs": []
    },
    {
      "cell_type": "markdown",
      "source": [
        "22 How can you check if a file is empty before attempting to read its contents?\n",
        "\n",
        "Using os.path.getsize():\n",
        "You can check the size of the file. If the size is 0, the file is empty.\n",
        "\n",
        "import os\n",
        "\n"
      ],
      "metadata": {
        "id": "7EC71SBguTbg"
      }
    },
    {
      "cell_type": "code",
      "source": [
        "file_path = \"your_file.txt\"\n",
        "\n",
        "if os.path.getsize(file_path) > 0:\n",
        "    with open(file_path, \"r\") as file:\n",
        "        content = file.read()\n",
        "        print(content)\n",
        "else:\n",
        "    print(\"The file is empty.\")"
      ],
      "metadata": {
        "id": "BCt_PUB-uUVd"
      },
      "execution_count": null,
      "outputs": []
    },
    {
      "cell_type": "markdown",
      "source": [
        "2. Using os.stat():\n",
        "\n",
        "Another way to get the size of the file is using os.stat(),\n",
        "\n",
        "which also provides information\n",
        "about the file size.\n",
        "import os"
      ],
      "metadata": {
        "id": "ecZcDcAIux9o"
      }
    },
    {
      "cell_type": "code",
      "source": [
        "file_path = \"your_file.txt\"\n",
        "\n",
        "if os.stat(file_path).st_size > 0:\n",
        "    with open(file_path, \"r\") as file:\n",
        "        content = file.read()\n",
        "        print(content)\n",
        "else:\n",
        "    print(\"The file is empty.\")"
      ],
      "metadata": {
        "id": "ormSdybpvBwL"
      },
      "execution_count": null,
      "outputs": []
    },
    {
      "cell_type": "markdown",
      "source": [
        "3 .Checking if read() returns empty:\n",
        "\n",
        "You can open the file and attempt to read its content directly. If read() returns an empty string, it means the file is empty.\n",
        "\n"
      ],
      "metadata": {
        "id": "mYbNYyvOvYTK"
      }
    },
    {
      "cell_type": "code",
      "source": [
        "with open(\"your_file.txt\", \"r\") as file:\n",
        "    content = file.read()\n",
        "    if content:\n",
        "        print(content)\n",
        "    else:\n",
        "        print(\"The file is empty.\")\n"
      ],
      "metadata": {
        "id": "1KOZzURGvhV2"
      },
      "execution_count": null,
      "outputs": []
    },
    {
      "cell_type": "code",
      "source": [
        "#23 Write a Python program that writes to a log file when an error occurs during file handling.\n",
        "write_to_file('test_file.txt', 'This is a test message.')\n",
        "content = read_from_file('test_file.txt')\n",
        "print(\"File content:\", content)\n"
      ],
      "metadata": {
        "id": "HmfoBO7gv4g-"
      },
      "execution_count": null,
      "outputs": []
    }
  ]
}